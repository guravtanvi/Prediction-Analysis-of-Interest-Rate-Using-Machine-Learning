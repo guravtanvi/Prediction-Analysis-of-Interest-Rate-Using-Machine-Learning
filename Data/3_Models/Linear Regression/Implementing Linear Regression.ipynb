{
 "cells": [
  {
   "cell_type": "markdown",
   "metadata": {},
   "source": [
    "# Liner Regression with Cross Validation"
   ]
  },
  {
   "cell_type": "code",
   "execution_count": 1,
   "metadata": {},
   "outputs": [],
   "source": [
    "#import required packages\n",
    "import numpy as np\n",
    "import pandas as pd\n"
   ]
  },
  {
   "cell_type": "code",
   "execution_count": 2,
   "metadata": {},
   "outputs": [],
   "source": [
    "import matplotlib.pyplot as plt\n",
    "import seaborn as sns\n"
   ]
  },
  {
   "cell_type": "code",
   "execution_count": 3,
   "metadata": {},
   "outputs": [],
   "source": [
    "from sklearn.model_selection import train_test_split\n",
    "from sklearn.metrics import mean_squared_error\n",
    "from sklearn.linear_model import LinearRegression\n",
    "from itertools import chain, combinations\n"
   ]
  },
  {
   "cell_type": "code",
   "execution_count": 4,
   "metadata": {},
   "outputs": [],
   "source": [
    "from sklearn.model_selection import cross_val_score\n",
    "from tqdm import tqdm\n",
    "from sklearn.linear_model import Ridge\n",
    "from sklearn.linear_model import LassoCV\n",
    "from sklearn.model_selection import cross_val_score\n",
    "\n"
   ]
  },
  {
   "cell_type": "code",
   "execution_count": 5,
   "metadata": {},
   "outputs": [],
   "source": [
    "from sklearn.preprocessing import MinMaxScaler\n",
    "import warnings\n",
    "warnings.filterwarnings(\"ignore\")\n"
   ]
  },
  {
   "cell_type": "markdown",
   "metadata": {},
   "source": [
    "## Import the Data File"
   ]
  },
  {
   "cell_type": "code",
   "execution_count": 6,
   "metadata": {},
   "outputs": [
    {
     "data": {
      "text/html": [
       "<div>\n",
       "<style scoped>\n",
       "    .dataframe tbody tr th:only-of-type {\n",
       "        vertical-align: middle;\n",
       "    }\n",
       "\n",
       "    .dataframe tbody tr th {\n",
       "        vertical-align: top;\n",
       "    }\n",
       "\n",
       "    .dataframe thead th {\n",
       "        text-align: right;\n",
       "    }\n",
       "</style>\n",
       "<table border=\"1\" class=\"dataframe\">\n",
       "  <thead>\n",
       "    <tr style=\"text-align: right;\">\n",
       "      <th></th>\n",
       "      <th>grade_B</th>\n",
       "      <th>grade_C</th>\n",
       "      <th>grade_D</th>\n",
       "      <th>grade_E</th>\n",
       "      <th>grade_F</th>\n",
       "      <th>grade_G</th>\n",
       "      <th>sub_grade_A2</th>\n",
       "      <th>sub_grade_A3</th>\n",
       "      <th>sub_grade_A4</th>\n",
       "      <th>sub_grade_A5</th>\n",
       "      <th>...</th>\n",
       "      <th>total_pymnt</th>\n",
       "      <th>total_pymnt_inv</th>\n",
       "      <th>total_rec_prncp</th>\n",
       "      <th>total_rec_int</th>\n",
       "      <th>total_rec_late_fee</th>\n",
       "      <th>recoveries</th>\n",
       "      <th>collection_recovery_fee</th>\n",
       "      <th>last_pymnt_amnt</th>\n",
       "      <th>collections_12_mths_ex_med</th>\n",
       "      <th>acc_now_delinq</th>\n",
       "    </tr>\n",
       "  </thead>\n",
       "  <tbody>\n",
       "    <tr>\n",
       "      <th>0</th>\n",
       "      <td>1</td>\n",
       "      <td>0</td>\n",
       "      <td>0</td>\n",
       "      <td>0</td>\n",
       "      <td>0</td>\n",
       "      <td>0</td>\n",
       "      <td>0</td>\n",
       "      <td>0</td>\n",
       "      <td>0</td>\n",
       "      <td>0</td>\n",
       "      <td>...</td>\n",
       "      <td>0.191654</td>\n",
       "      <td>0.190696</td>\n",
       "      <td>0.163497</td>\n",
       "      <td>0.028157</td>\n",
       "      <td>0.000000</td>\n",
       "      <td>0.000000</td>\n",
       "      <td>0.000000</td>\n",
       "      <td>0.005612</td>\n",
       "      <td>0</td>\n",
       "      <td>0</td>\n",
       "    </tr>\n",
       "    <tr>\n",
       "      <th>1</th>\n",
       "      <td>0</td>\n",
       "      <td>1</td>\n",
       "      <td>0</td>\n",
       "      <td>0</td>\n",
       "      <td>0</td>\n",
       "      <td>0</td>\n",
       "      <td>0</td>\n",
       "      <td>0</td>\n",
       "      <td>0</td>\n",
       "      <td>0</td>\n",
       "      <td>...</td>\n",
       "      <td>0.033111</td>\n",
       "      <td>0.033111</td>\n",
       "      <td>0.014983</td>\n",
       "      <td>0.014284</td>\n",
       "      <td>0.000000</td>\n",
       "      <td>0.003843</td>\n",
       "      <td>0.000036</td>\n",
       "      <td>0.003928</td>\n",
       "      <td>0</td>\n",
       "      <td>0</td>\n",
       "    </tr>\n",
       "    <tr>\n",
       "      <th>2</th>\n",
       "      <td>0</td>\n",
       "      <td>1</td>\n",
       "      <td>0</td>\n",
       "      <td>0</td>\n",
       "      <td>0</td>\n",
       "      <td>0</td>\n",
       "      <td>0</td>\n",
       "      <td>0</td>\n",
       "      <td>0</td>\n",
       "      <td>0</td>\n",
       "      <td>...</td>\n",
       "      <td>0.209896</td>\n",
       "      <td>0.209896</td>\n",
       "      <td>0.167713</td>\n",
       "      <td>0.042183</td>\n",
       "      <td>0.000000</td>\n",
       "      <td>0.000000</td>\n",
       "      <td>0.000000</td>\n",
       "      <td>0.045416</td>\n",
       "      <td>0</td>\n",
       "      <td>0</td>\n",
       "    </tr>\n",
       "    <tr>\n",
       "      <th>3</th>\n",
       "      <td>0</td>\n",
       "      <td>1</td>\n",
       "      <td>0</td>\n",
       "      <td>0</td>\n",
       "      <td>0</td>\n",
       "      <td>0</td>\n",
       "      <td>0</td>\n",
       "      <td>0</td>\n",
       "      <td>0</td>\n",
       "      <td>0</td>\n",
       "      <td>...</td>\n",
       "      <td>0.217492</td>\n",
       "      <td>0.217492</td>\n",
       "      <td>0.177889</td>\n",
       "      <td>0.039302</td>\n",
       "      <td>0.000302</td>\n",
       "      <td>0.000000</td>\n",
       "      <td>0.000000</td>\n",
       "      <td>0.006359</td>\n",
       "      <td>0</td>\n",
       "      <td>0</td>\n",
       "    </tr>\n",
       "    <tr>\n",
       "      <th>4</th>\n",
       "      <td>1</td>\n",
       "      <td>0</td>\n",
       "      <td>0</td>\n",
       "      <td>0</td>\n",
       "      <td>0</td>\n",
       "      <td>0</td>\n",
       "      <td>0</td>\n",
       "      <td>0</td>\n",
       "      <td>0</td>\n",
       "      <td>0</td>\n",
       "      <td>...</td>\n",
       "      <td>0.038127</td>\n",
       "      <td>0.038127</td>\n",
       "      <td>0.026261</td>\n",
       "      <td>0.011866</td>\n",
       "      <td>0.000000</td>\n",
       "      <td>0.000000</td>\n",
       "      <td>0.000000</td>\n",
       "      <td>0.000797</td>\n",
       "      <td>0</td>\n",
       "      <td>0</td>\n",
       "    </tr>\n",
       "    <tr>\n",
       "      <th>...</th>\n",
       "      <td>...</td>\n",
       "      <td>...</td>\n",
       "      <td>...</td>\n",
       "      <td>...</td>\n",
       "      <td>...</td>\n",
       "      <td>...</td>\n",
       "      <td>...</td>\n",
       "      <td>...</td>\n",
       "      <td>...</td>\n",
       "      <td>...</td>\n",
       "      <td>...</td>\n",
       "      <td>...</td>\n",
       "      <td>...</td>\n",
       "      <td>...</td>\n",
       "      <td>...</td>\n",
       "      <td>...</td>\n",
       "      <td>...</td>\n",
       "      <td>...</td>\n",
       "      <td>...</td>\n",
       "      <td>...</td>\n",
       "      <td>...</td>\n",
       "    </tr>\n",
       "    <tr>\n",
       "      <th>995</th>\n",
       "      <td>0</td>\n",
       "      <td>1</td>\n",
       "      <td>0</td>\n",
       "      <td>0</td>\n",
       "      <td>0</td>\n",
       "      <td>0</td>\n",
       "      <td>0</td>\n",
       "      <td>0</td>\n",
       "      <td>0</td>\n",
       "      <td>0</td>\n",
       "      <td>...</td>\n",
       "      <td>0.036356</td>\n",
       "      <td>0.036356</td>\n",
       "      <td>0.028879</td>\n",
       "      <td>0.007298</td>\n",
       "      <td>0.000179</td>\n",
       "      <td>0.000000</td>\n",
       "      <td>0.000000</td>\n",
       "      <td>0.000191</td>\n",
       "      <td>0</td>\n",
       "      <td>0</td>\n",
       "    </tr>\n",
       "    <tr>\n",
       "      <th>996</th>\n",
       "      <td>1</td>\n",
       "      <td>0</td>\n",
       "      <td>0</td>\n",
       "      <td>0</td>\n",
       "      <td>0</td>\n",
       "      <td>0</td>\n",
       "      <td>0</td>\n",
       "      <td>0</td>\n",
       "      <td>0</td>\n",
       "      <td>0</td>\n",
       "      <td>...</td>\n",
       "      <td>0.152640</td>\n",
       "      <td>0.152640</td>\n",
       "      <td>0.144344</td>\n",
       "      <td>0.008297</td>\n",
       "      <td>0.000000</td>\n",
       "      <td>0.000000</td>\n",
       "      <td>0.000000</td>\n",
       "      <td>0.032419</td>\n",
       "      <td>0</td>\n",
       "      <td>0</td>\n",
       "    </tr>\n",
       "    <tr>\n",
       "      <th>997</th>\n",
       "      <td>1</td>\n",
       "      <td>0</td>\n",
       "      <td>0</td>\n",
       "      <td>0</td>\n",
       "      <td>0</td>\n",
       "      <td>0</td>\n",
       "      <td>0</td>\n",
       "      <td>0</td>\n",
       "      <td>0</td>\n",
       "      <td>0</td>\n",
       "      <td>...</td>\n",
       "      <td>0.266381</td>\n",
       "      <td>0.265700</td>\n",
       "      <td>0.245383</td>\n",
       "      <td>0.020998</td>\n",
       "      <td>0.000000</td>\n",
       "      <td>0.000000</td>\n",
       "      <td>0.000000</td>\n",
       "      <td>0.179580</td>\n",
       "      <td>0</td>\n",
       "      <td>0</td>\n",
       "    </tr>\n",
       "    <tr>\n",
       "      <th>998</th>\n",
       "      <td>0</td>\n",
       "      <td>0</td>\n",
       "      <td>0</td>\n",
       "      <td>1</td>\n",
       "      <td>0</td>\n",
       "      <td>0</td>\n",
       "      <td>0</td>\n",
       "      <td>0</td>\n",
       "      <td>0</td>\n",
       "      <td>0</td>\n",
       "      <td>...</td>\n",
       "      <td>0.346636</td>\n",
       "      <td>0.325744</td>\n",
       "      <td>0.193050</td>\n",
       "      <td>0.153586</td>\n",
       "      <td>0.000000</td>\n",
       "      <td>0.000000</td>\n",
       "      <td>0.000000</td>\n",
       "      <td>0.007226</td>\n",
       "      <td>0</td>\n",
       "      <td>0</td>\n",
       "    </tr>\n",
       "    <tr>\n",
       "      <th>999</th>\n",
       "      <td>0</td>\n",
       "      <td>0</td>\n",
       "      <td>1</td>\n",
       "      <td>0</td>\n",
       "      <td>0</td>\n",
       "      <td>0</td>\n",
       "      <td>0</td>\n",
       "      <td>0</td>\n",
       "      <td>0</td>\n",
       "      <td>0</td>\n",
       "      <td>...</td>\n",
       "      <td>0.199744</td>\n",
       "      <td>0.199744</td>\n",
       "      <td>0.194172</td>\n",
       "      <td>0.005572</td>\n",
       "      <td>0.000000</td>\n",
       "      <td>0.000000</td>\n",
       "      <td>0.000000</td>\n",
       "      <td>0.194921</td>\n",
       "      <td>0</td>\n",
       "      <td>0</td>\n",
       "    </tr>\n",
       "  </tbody>\n",
       "</table>\n",
       "<p>1000 rows × 77 columns</p>\n",
       "</div>"
      ],
      "text/plain": [
       "     grade_B  grade_C  grade_D  grade_E  grade_F  grade_G  sub_grade_A2  \\\n",
       "0          1        0        0        0        0        0             0   \n",
       "1          0        1        0        0        0        0             0   \n",
       "2          0        1        0        0        0        0             0   \n",
       "3          0        1        0        0        0        0             0   \n",
       "4          1        0        0        0        0        0             0   \n",
       "..       ...      ...      ...      ...      ...      ...           ...   \n",
       "995        0        1        0        0        0        0             0   \n",
       "996        1        0        0        0        0        0             0   \n",
       "997        1        0        0        0        0        0             0   \n",
       "998        0        0        0        1        0        0             0   \n",
       "999        0        0        1        0        0        0             0   \n",
       "\n",
       "     sub_grade_A3  sub_grade_A4  sub_grade_A5  ...  total_pymnt  \\\n",
       "0               0             0             0  ...     0.191654   \n",
       "1               0             0             0  ...     0.033111   \n",
       "2               0             0             0  ...     0.209896   \n",
       "3               0             0             0  ...     0.217492   \n",
       "4               0             0             0  ...     0.038127   \n",
       "..            ...           ...           ...  ...          ...   \n",
       "995             0             0             0  ...     0.036356   \n",
       "996             0             0             0  ...     0.152640   \n",
       "997             0             0             0  ...     0.266381   \n",
       "998             0             0             0  ...     0.346636   \n",
       "999             0             0             0  ...     0.199744   \n",
       "\n",
       "     total_pymnt_inv  total_rec_prncp  total_rec_int  total_rec_late_fee  \\\n",
       "0           0.190696         0.163497       0.028157            0.000000   \n",
       "1           0.033111         0.014983       0.014284            0.000000   \n",
       "2           0.209896         0.167713       0.042183            0.000000   \n",
       "3           0.217492         0.177889       0.039302            0.000302   \n",
       "4           0.038127         0.026261       0.011866            0.000000   \n",
       "..               ...              ...            ...                 ...   \n",
       "995         0.036356         0.028879       0.007298            0.000179   \n",
       "996         0.152640         0.144344       0.008297            0.000000   \n",
       "997         0.265700         0.245383       0.020998            0.000000   \n",
       "998         0.325744         0.193050       0.153586            0.000000   \n",
       "999         0.199744         0.194172       0.005572            0.000000   \n",
       "\n",
       "     recoveries  collection_recovery_fee  last_pymnt_amnt  \\\n",
       "0      0.000000                 0.000000         0.005612   \n",
       "1      0.003843                 0.000036         0.003928   \n",
       "2      0.000000                 0.000000         0.045416   \n",
       "3      0.000000                 0.000000         0.006359   \n",
       "4      0.000000                 0.000000         0.000797   \n",
       "..          ...                      ...              ...   \n",
       "995    0.000000                 0.000000         0.000191   \n",
       "996    0.000000                 0.000000         0.032419   \n",
       "997    0.000000                 0.000000         0.179580   \n",
       "998    0.000000                 0.000000         0.007226   \n",
       "999    0.000000                 0.000000         0.194921   \n",
       "\n",
       "     collections_12_mths_ex_med  acc_now_delinq  \n",
       "0                             0               0  \n",
       "1                             0               0  \n",
       "2                             0               0  \n",
       "3                             0               0  \n",
       "4                             0               0  \n",
       "..                          ...             ...  \n",
       "995                           0               0  \n",
       "996                           0               0  \n",
       "997                           0               0  \n",
       "998                           0               0  \n",
       "999                           0               0  \n",
       "\n",
       "[1000 rows x 77 columns]"
      ]
     },
     "execution_count": 6,
     "metadata": {},
     "output_type": "execute_result"
    }
   ],
   "source": [
    "df = pd.read_csv(\"final_final.csv\",header=0)\n",
    "df"
   ]
  },
  {
   "cell_type": "code",
   "execution_count": 7,
   "metadata": {},
   "outputs": [],
   "source": [
    "#select the dependent(X) and independent variable (y)\n",
    "X = df[['grade_C','grade_D','grade_E',\n",
    "        'grade_F','grade_G','total_rec_int',\n",
    "        'total_pymnt_inv','funded_amnt_inv','sub_grade_B5',\n",
    "        'sub_grade_C5','sub_grade_C4','sub_grade_B4','sub_grade_D5','sub_grade_C3']].values\n",
    "\n",
    "y = df[['int_rate']].values"
   ]
  },
  {
   "cell_type": "code",
   "execution_count": 8,
   "metadata": {},
   "outputs": [],
   "source": [
    "#split the data in train test\n",
    "X_train, X_test, y_train, y_test = train_test_split(X, y, test_size=0.4, random_state=101)"
   ]
  },
  {
   "cell_type": "code",
   "execution_count": 9,
   "metadata": {},
   "outputs": [
    {
     "data": {
      "text/plain": [
       "LinearRegression(copy_X=True, fit_intercept=True, n_jobs=None, normalize=False)"
      ]
     },
     "execution_count": 9,
     "metadata": {},
     "output_type": "execute_result"
    }
   ],
   "source": [
    "#train the linear regression model\n",
    "lm = LinearRegression()\n",
    "lm.fit(X_train,y_train)"
   ]
  },
  {
   "cell_type": "code",
   "execution_count": 10,
   "metadata": {},
   "outputs": [],
   "source": [
    "#predict the interest rate\n",
    "predictions = lm.predict(X_test)\n",
    "predictionx = lm.predict(X_train)"
   ]
  },
  {
   "cell_type": "code",
   "execution_count": 11,
   "metadata": {},
   "outputs": [
    {
     "data": {
      "text/plain": [
       "<matplotlib.collections.PathCollection at 0x1bba0e20988>"
      ]
     },
     "execution_count": 11,
     "metadata": {},
     "output_type": "execute_result"
    },
    {
     "data": {
      "image/png": "[encoded data removed]",
      "text/plain": [
       "<Figure size 432x288 with 1 Axes>"
      ]
     },
     "metadata": {
      "needs_background": "light"
     },
     "output_type": "display_data"
    }
   ],
   "source": [
    "#plot the graph for relation ,on x-axis in is actuall interest rate and on the y axis there is predected interested rate\n",
    "plt.scatter(y_test,predictions)"
   ]
  },
  {
   "cell_type": "code",
   "execution_count": 12,
   "metadata": {},
   "outputs": [
    {
     "data": {
      "text/plain": [
       "0.9139731565540277"
      ]
     },
     "execution_count": 12,
     "metadata": {},
     "output_type": "execute_result"
    }
   ],
   "source": [
    "#calculate the r-square score\n",
    "from sklearn.metrics import *\n",
    "r2_score(y_test,predictions)"
   ]
  },
  {
   "cell_type": "code",
   "execution_count": 13,
   "metadata": {},
   "outputs": [
    {
     "name": "stdout",
     "output_type": "stream",
     "text": [
      "Mean Absolute Error: 0.84 degrees.\n"
     ]
    }
   ],
   "source": [
    "# Calculate the absolute errors \n",
    "errors = abs(predictions - y_test) \n",
    "# Print out the mean absolute error (mae) \n",
    "print('Mean Absolute Error:', round(np.mean(errors), 2), 'degrees.')"
   ]
  },
  {
   "cell_type": "code",
   "execution_count": 14,
   "metadata": {},
   "outputs": [
    {
     "name": "stdout",
     "output_type": "stream",
     "text": [
      "Accuracy: 91.34 %.\n"
     ]
    }
   ],
   "source": [
    "# Calculate mean absolute percentage error (MAPE) \n",
    "mape = 100 * (errors / y_test) \n",
    "#print('MAPE:',mape)\n",
    "# Calculate and display accuracy \n",
    "accuracy = 100 - np.mean(mape) \n",
    "print('Accuracy:', round(accuracy, 2), '%.')"
   ]
  },
  {
   "cell_type": "code",
   "execution_count": 15,
   "metadata": {},
   "outputs": [],
   "source": [
    "test_int = y_test.tolist()"
   ]
  },
  {
   "cell_type": "code",
   "execution_count": 16,
   "metadata": {},
   "outputs": [],
   "source": [
    "train_int = y_train.tolist()"
   ]
  },
  {
   "cell_type": "code",
   "execution_count": 17,
   "metadata": {},
   "outputs": [
    {
     "name": "stdout",
     "output_type": "stream",
     "text": [
      "MAPE of test data: 8.661827417121426\n",
      "MAPE of train data: 8.402658946009943\n"
     ]
    }
   ],
   "source": [
    "#calculate mape\n",
    "mape = np.mean(np.abs((test_int-predictions) / test_int)) * 100\n",
    "print('MAPE of test data:',mape)\n",
    "mape1 = np.mean(np.abs((train_int-predictionx) / train_int)) * 100\n",
    "print('MAPE of train data:',mape1)"
   ]
  },
  {
   "cell_type": "markdown",
   "metadata": {},
   "source": [
    "## We will map the residual against the predicted value ---the output is random and close to 0 "
   ]
  },
  {
   "cell_type": "code",
   "execution_count": 18,
   "metadata": {},
   "outputs": [
    {
     "data": {
      "text/plain": [
       "Text(0, 0.5, 'residuals')"
      ]
     },
     "execution_count": 18,
     "metadata": {},
     "output_type": "execute_result"
    },
    {
     "data": {
      "image/png": "[encoded data removed]",
      "text/plain": [
       "<Figure size 720x720 with 1 Axes>"
      ]
     },
     "metadata": {
      "needs_background": "light"
     },
     "output_type": "display_data"
    }
   ],
   "source": [
    "#plot the graph on x-axis there is predicted interest rate and on y-axis there is residual which means difference,\n",
    "#the green colour are train data and blue is test data\n",
    "plt.figure(figsize = (10,10))\n",
    "plt.scatter(lm.predict(X_test),lm.predict(X_test) - test_int,c='b',s=40,alpha=0.5)\n",
    "plt.scatter(lm.predict(X_train),lm.predict(X_train) - train_int,c='g',s=40,alpha=0.1)\n",
    "plt.hlines(y=0,xmin=0,xmax=30)\n",
    "plt.title('residual plot blue(test) and green(train)data')\n",
    "plt.ylabel('residuals')"
   ]
  },
  {
   "cell_type": "markdown",
   "metadata": {},
   "source": [
    "### Calculte mape after 5 fold CV"
   ]
  },
  {
   "cell_type": "code",
   "execution_count": 19,
   "metadata": {},
   "outputs": [
    {
     "name": "stdout",
     "output_type": "stream",
     "text": [
      "MAPE after 5 fold cross validation :\n",
      "8.510868265774642\n"
     ]
    }
   ],
   "source": [
    "\n",
    "from sklearn.model_selection import StratifiedKFold\n",
    "from sklearn.metrics import mean_squared_error\n",
    "from sklearn.model_selection import KFold\n",
    "from math import fabs\n",
    "kfold = StratifiedKFold(n_splits=5, shuffle=True, random_state=42)\n",
    "cvscores =[]\n",
    "kf = KFold(n_splits=5, random_state=42, shuffle=True)\n",
    "i=1\n",
    "model = LinearRegression()\n",
    "\n",
    "for train_index, test_index in kf.split(X):\n",
    "    X_trainD, X_testD = X[train_index], X[test_index]\n",
    "    y_trainD, y_testD = y[train_index], y[test_index]\n",
    "    i=i+(int(len(X_train)/5))\n",
    "    model = LinearRegression()\n",
    "    model.fit(X_trainD, y_trainD)\n",
    "    pred= model.predict(X_testD)\n",
    "    mape=np.mean(np.abs((y_testD-pred) / y_testD)) * 100\n",
    "    cvscores.append(mape)\n",
    "mape=np.mean(cvscores)\n",
    "print('MAPE after 5 fold cross validation :')\n",
    "print(mape)\n"
   ]
  },
  {
   "cell_type": "markdown",
   "metadata": {},
   "source": [
    "After 5 fold cross validation the MAPE value changed by 0.01"
   ]
  },
  {
   "cell_type": "code",
   "execution_count": null,
   "metadata": {},
   "outputs": [],
   "source": []
  }
 ],
 "metadata": {
  "kernelspec": {
   "display_name": "Python 3",
   "language": "python",
   "name": "python3"
  },
  "language_info": {
   "codemirror_mode": {
    "name": "ipython",
    "version": 3
   },
   "file_extension": ".py",
   "mimetype": "text/x-python",
   "name": "python",
   "nbconvert_exporter": "python",
   "pygments_lexer": "ipython3",
   "version": "3.7.4"
  }
 },
 "nbformat": 4,
 "nbformat_minor": 2
}
