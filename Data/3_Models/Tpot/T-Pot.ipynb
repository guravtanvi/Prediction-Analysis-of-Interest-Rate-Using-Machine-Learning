{
 "cells": [
  {
   "cell_type": "markdown",
   "metadata": {},
   "source": [
    "## TPOT tries a pipeline, evaluates its performance, and randomly changes parts of the ## pipeline in search of better performing algorithms. "
   ]
  },
  {
   "cell_type": "markdown",
   "metadata": {},
   "source": [
    "### Import essential libraries"
   ]
  },
  {
   "cell_type": "code",
   "execution_count": 1,
   "metadata": {},
   "outputs": [],
   "source": [
    "import tpot\n",
    "from tpot import TPOTRegressor\n",
    "from sklearn.model_selection import train_test_split\n",
    "import pandas as pd"
   ]
  },
  {
   "cell_type": "code",
   "execution_count": 2,
   "metadata": {},
   "outputs": [
    {
     "data": {
      "text/html": [
       "<div>\n",
       "<style scoped>\n",
       "    .dataframe tbody tr th:only-of-type {\n",
       "        vertical-align: middle;\n",
       "    }\n",
       "\n",
       "    .dataframe tbody tr th {\n",
       "        vertical-align: top;\n",
       "    }\n",
       "\n",
       "    .dataframe thead th {\n",
       "        text-align: right;\n",
       "    }\n",
       "</style>\n",
       "<table border=\"1\" class=\"dataframe\">\n",
       "  <thead>\n",
       "    <tr style=\"text-align: right;\">\n",
       "      <th></th>\n",
       "      <th>Unnamed: 0</th>\n",
       "      <th>loan_amnt</th>\n",
       "      <th>funded_amnt</th>\n",
       "      <th>funded_amnt_inv</th>\n",
       "      <th>term</th>\n",
       "      <th>int_rate</th>\n",
       "      <th>installment</th>\n",
       "      <th>emp_length</th>\n",
       "      <th>annual_inc</th>\n",
       "      <th>dti</th>\n",
       "      <th>...</th>\n",
       "      <th>verification_status_Source Verified</th>\n",
       "      <th>verification_status_Verified</th>\n",
       "      <th>loan_status_Current</th>\n",
       "      <th>loan_status_Default</th>\n",
       "      <th>loan_status_Fully Paid</th>\n",
       "      <th>loan_status_In Grace Period</th>\n",
       "      <th>loan_status_Late (16-30 days)</th>\n",
       "      <th>loan_status_Late (31-120 days)</th>\n",
       "      <th>issue_month</th>\n",
       "      <th>issue_year</th>\n",
       "    </tr>\n",
       "  </thead>\n",
       "  <tbody>\n",
       "    <tr>\n",
       "      <th>0</th>\n",
       "      <td>0</td>\n",
       "      <td>7000.0</td>\n",
       "      <td>7000.0</td>\n",
       "      <td>7000.0</td>\n",
       "      <td>0</td>\n",
       "      <td>6.62</td>\n",
       "      <td>214.93</td>\n",
       "      <td>0</td>\n",
       "      <td>48000.0</td>\n",
       "      <td>16.00</td>\n",
       "      <td>...</td>\n",
       "      <td>1</td>\n",
       "      <td>0</td>\n",
       "      <td>0</td>\n",
       "      <td>0</td>\n",
       "      <td>1</td>\n",
       "      <td>0</td>\n",
       "      <td>0</td>\n",
       "      <td>0</td>\n",
       "      <td>10</td>\n",
       "      <td>2011</td>\n",
       "    </tr>\n",
       "    <tr>\n",
       "      <th>1</th>\n",
       "      <td>1</td>\n",
       "      <td>7200.0</td>\n",
       "      <td>7200.0</td>\n",
       "      <td>7200.0</td>\n",
       "      <td>0</td>\n",
       "      <td>12.42</td>\n",
       "      <td>240.59</td>\n",
       "      <td>9</td>\n",
       "      <td>35000.0</td>\n",
       "      <td>6.14</td>\n",
       "      <td>...</td>\n",
       "      <td>0</td>\n",
       "      <td>0</td>\n",
       "      <td>0</td>\n",
       "      <td>0</td>\n",
       "      <td>1</td>\n",
       "      <td>0</td>\n",
       "      <td>0</td>\n",
       "      <td>0</td>\n",
       "      <td>10</td>\n",
       "      <td>2011</td>\n",
       "    </tr>\n",
       "    <tr>\n",
       "      <th>2</th>\n",
       "      <td>2</td>\n",
       "      <td>22000.0</td>\n",
       "      <td>22000.0</td>\n",
       "      <td>22000.0</td>\n",
       "      <td>0</td>\n",
       "      <td>14.65</td>\n",
       "      <td>758.88</td>\n",
       "      <td>1</td>\n",
       "      <td>192000.0</td>\n",
       "      <td>1.82</td>\n",
       "      <td>...</td>\n",
       "      <td>0</td>\n",
       "      <td>1</td>\n",
       "      <td>0</td>\n",
       "      <td>0</td>\n",
       "      <td>1</td>\n",
       "      <td>0</td>\n",
       "      <td>0</td>\n",
       "      <td>0</td>\n",
       "      <td>10</td>\n",
       "      <td>2011</td>\n",
       "    </tr>\n",
       "    <tr>\n",
       "      <th>3</th>\n",
       "      <td>3</td>\n",
       "      <td>18750.0</td>\n",
       "      <td>18750.0</td>\n",
       "      <td>18750.0</td>\n",
       "      <td>0</td>\n",
       "      <td>7.90</td>\n",
       "      <td>586.70</td>\n",
       "      <td>3</td>\n",
       "      <td>75000.0</td>\n",
       "      <td>13.94</td>\n",
       "      <td>...</td>\n",
       "      <td>1</td>\n",
       "      <td>0</td>\n",
       "      <td>0</td>\n",
       "      <td>0</td>\n",
       "      <td>1</td>\n",
       "      <td>0</td>\n",
       "      <td>0</td>\n",
       "      <td>0</td>\n",
       "      <td>11</td>\n",
       "      <td>2011</td>\n",
       "    </tr>\n",
       "    <tr>\n",
       "      <th>4</th>\n",
       "      <td>4</td>\n",
       "      <td>12500.0</td>\n",
       "      <td>12500.0</td>\n",
       "      <td>12500.0</td>\n",
       "      <td>0</td>\n",
       "      <td>7.90</td>\n",
       "      <td>391.13</td>\n",
       "      <td>3</td>\n",
       "      <td>32500.0</td>\n",
       "      <td>24.15</td>\n",
       "      <td>...</td>\n",
       "      <td>0</td>\n",
       "      <td>0</td>\n",
       "      <td>0</td>\n",
       "      <td>0</td>\n",
       "      <td>1</td>\n",
       "      <td>0</td>\n",
       "      <td>0</td>\n",
       "      <td>0</td>\n",
       "      <td>10</td>\n",
       "      <td>2011</td>\n",
       "    </tr>\n",
       "  </tbody>\n",
       "</table>\n",
       "<p>5 rows × 81 columns</p>\n",
       "</div>"
      ],
      "text/plain": [
       "   Unnamed: 0  loan_amnt  funded_amnt  funded_amnt_inv  term  int_rate  \\\n",
       "0           0     7000.0       7000.0           7000.0     0      6.62   \n",
       "1           1     7200.0       7200.0           7200.0     0     12.42   \n",
       "2           2    22000.0      22000.0          22000.0     0     14.65   \n",
       "3           3    18750.0      18750.0          18750.0     0      7.90   \n",
       "4           4    12500.0      12500.0          12500.0     0      7.90   \n",
       "\n",
       "   installment  emp_length  annual_inc    dti  ...  \\\n",
       "0       214.93           0     48000.0  16.00  ...   \n",
       "1       240.59           9     35000.0   6.14  ...   \n",
       "2       758.88           1    192000.0   1.82  ...   \n",
       "3       586.70           3     75000.0  13.94  ...   \n",
       "4       391.13           3     32500.0  24.15  ...   \n",
       "\n",
       "   verification_status_Source Verified  verification_status_Verified  \\\n",
       "0                                    1                             0   \n",
       "1                                    0                             0   \n",
       "2                                    0                             1   \n",
       "3                                    1                             0   \n",
       "4                                    0                             0   \n",
       "\n",
       "   loan_status_Current  loan_status_Default  loan_status_Fully Paid  \\\n",
       "0                    0                    0                       1   \n",
       "1                    0                    0                       1   \n",
       "2                    0                    0                       1   \n",
       "3                    0                    0                       1   \n",
       "4                    0                    0                       1   \n",
       "\n",
       "   loan_status_In Grace Period  loan_status_Late (16-30 days)  \\\n",
       "0                            0                              0   \n",
       "1                            0                              0   \n",
       "2                            0                              0   \n",
       "3                            0                              0   \n",
       "4                            0                              0   \n",
       "\n",
       "   loan_status_Late (31-120 days)  issue_month  issue_year  \n",
       "0                               0           10        2011  \n",
       "1                               0           10        2011  \n",
       "2                               0           10        2011  \n",
       "3                               0           11        2011  \n",
       "4                               0           10        2011  \n",
       "\n",
       "[5 rows x 81 columns]"
      ]
     },
     "execution_count": 2,
     "metadata": {},
     "output_type": "execute_result"
    }
   ],
   "source": [
    "data = pd.read_csv('data_after_mice.csv')\n",
    "data.head()"
   ]
  },
  {
   "cell_type": "markdown",
   "metadata": {},
   "source": [
    "### Defining Response and Predictors"
   ]
  },
  {
   "cell_type": "markdown",
   "metadata": {},
   "source": [
    "\n",
    "The outcome variable is also called the response or dependent variable, and the risk factors and confounders are \n",
    "called the predictors, or explanatory or independent variables. \n",
    "In regression analysis, the dependent variable is denoted \"Y\" and the independent variables are denoted by \"X\"."
   ]
  },
  {
   "cell_type": "code",
   "execution_count": 3,
   "metadata": {},
   "outputs": [
    {
     "data": {
      "text/plain": [
       "['grade_C',\n",
       " 'grade_D',\n",
       " 'grade_E',\n",
       " 'grade_F',\n",
       " 'grade_G',\n",
       " 'total_rec_int',\n",
       " 'total_pymnt_inv',\n",
       " 'funded_amnt_inv',\n",
       " 'sub_grade_B5',\n",
       " 'sub_grade_C5',\n",
       " 'sub_grade_C4',\n",
       " 'sub_grade_C3',\n",
       " 'sub_grade_B4',\n",
       " 'sub_grade_D5']"
      ]
     },
     "execution_count": 3,
     "metadata": {},
     "output_type": "execute_result"
    }
   ],
   "source": [
    "predictors = ['grade_C','grade_D','grade_E',\n",
    "        'grade_F','grade_G','total_rec_int',\n",
    "        'total_pymnt_inv','funded_amnt_inv','sub_grade_B5',\n",
    "        'sub_grade_C5','sub_grade_C4','sub_grade_C3','sub_grade_B4','sub_grade_D5']\n",
    "\n",
    "predictors"
   ]
  },
  {
   "cell_type": "code",
   "execution_count": 4,
   "metadata": {},
   "outputs": [],
   "source": [
    "data.drop(['Unnamed: 0'],axis=1,inplace=True)"
   ]
  },
  {
   "cell_type": "code",
   "execution_count": 5,
   "metadata": {},
   "outputs": [],
   "source": [
    "response = ['int_rate']"
   ]
  },
  {
   "cell_type": "code",
   "execution_count": 6,
   "metadata": {},
   "outputs": [],
   "source": [
    "X_train, X_test, y_train, y_test = train_test_split(data[predictors], data[response],\n",
    "                                                    train_size=0.6, test_size=0.4)\n",
    "\n",
    "\n",
    "X_train = X_train.values\n",
    "X_test = X_test.values\n",
    "y_train = y_train.values.ravel()\n",
    "y_test = y_test.values.ravel()"
   ]
  },
  {
   "cell_type": "code",
   "execution_count": 7,
   "metadata": {},
   "outputs": [],
   "source": [
    "tpot_config = {'sklearn.tree.DecisionTreeClassifier': {},\n",
    "              'sklearn.neural_network.MLPClassifier': {'hidden_layer_sizes': [50, 25], \n",
    "                                                       'activation': ['relu', 'tanh', 'logistic', 'identity'],\n",
    "                                                      'batch_size': [10, 20, 40, 60, 80, 100], \n",
    "                                                       'solver': ['adam', 'sgd', 'lbfgs'], 'max_iter': [10, 50, 100],\n",
    "                                                      'batch_size': [10, 20, 40, 60, 80, 100]},\n",
    "              'sklearn.linear_model.LinearRegression': {}}"
   ]
  },
  {
   "cell_type": "code",
   "execution_count": 8,
   "metadata": {},
   "outputs": [],
   "source": [
    "from ipywidgets import IntProgress"
   ]
  },
  {
   "cell_type": "markdown",
   "metadata": {},
   "source": [
    "### Instantiating, fitting, & scoring the TPOT classifier is like any other sklearn classifier\n",
    "### tpot.export:- TPOT writes the optimized pipeline to an external python file"
   ]
  },
  {
   "cell_type": "code",
   "execution_count": 9,
   "metadata": {},
   "outputs": [
    {
     "data": {
      "application/vnd.jupyter.widget-view+json": {
       "model_id": "",
       "version_major": 2,
       "version_minor": 0
      },
      "text/plain": [
       "HBox(children=(FloatProgress(value=0.0, description='Optimization Progress', max=300.0, style=ProgressStyle(de…"
      ]
     },
     "metadata": {},
     "output_type": "display_data"
    },
    {
     "name": "stdout",
     "output_type": "stream",
     "text": [
      "Generation 1 - Current best internal CV score: -1.9517797526445115\n",
      "Generation 2 - Current best internal CV score: -1.9517797526445115\n",
      "Generation 3 - Current best internal CV score: -1.9517797526445115\n",
      "Generation 4 - Current best internal CV score: -1.9517399573143002\n",
      "Generation 5 - Current best internal CV score: -1.9517399573143002\n",
      "\n",
      "Best pipeline: LinearRegression(CombineDFs(input_matrix, LinearRegression(CombineDFs(input_matrix, input_matrix))))\n",
      "-1.8265096431543566\n"
     ]
    }
   ],
   "source": [
    "tpot = TPOTRegressor(generations=5, population_size=50, verbosity=2, config_dict = tpot_config)\n",
    "tpot.fit(X_train, y_train)\n",
    "print(tpot.score(X_test, y_test))\n",
    "tpot.export('tpot_lendingClub_pipeline_lite.py')"
   ]
  },
  {
   "cell_type": "markdown",
   "metadata": {},
   "source": [
    "### TPOT writes the optimized pipeline to an external python file specified in the tpot.export() function.\n",
    "### The code is copied from that file and pasted below."
   ]
  },
  {
   "cell_type": "code",
   "execution_count": 10,
   "metadata": {},
   "outputs": [],
   "source": [
    "import numpy as np\n",
    "import pandas as pd\n",
    "from sklearn.linear_model import LinearRegression\n",
    "from sklearn.model_selection import train_test_split\n",
    "from sklearn.pipeline import make_pipeline, make_union\n",
    "from tpot.builtins import StackingEstimator\n",
    "from sklearn.preprocessing import FunctionTransformer\n",
    "from copy import copy"
   ]
  },
  {
   "cell_type": "markdown",
   "metadata": {},
   "source": [
    "### Split arrays or matrices into random train and test subsets"
   ]
  },
  {
   "cell_type": "code",
   "execution_count": 11,
   "metadata": {},
   "outputs": [],
   "source": [
    "X_train, X_test, y_train, y_test = train_test_split(data[predictors], data[response],\n",
    "                                                    train_size=0.6, test_size=0.4)\n",
    "\n",
    "\n",
    "X_train = X_train.values\n",
    "X_test = X_test.values\n",
    "y_train = y_train.values.ravel()\n",
    "y_test = y_test.values.ravel()"
   ]
  },
  {
   "cell_type": "markdown",
   "metadata": {},
   "source": [
    "### Construct a FeatureUnion from the given transformers."
   ]
  },
  {
   "cell_type": "code",
   "execution_count": 12,
   "metadata": {},
   "outputs": [],
   "source": [
    "\n",
    "exported_pipeline = make_pipeline(\n",
    "    make_union(\n",
    "        make_union(\n",
    "            FunctionTransformer(copy),\n",
    "            FunctionTransformer(copy)\n",
    "        ),\n",
    "        StackingEstimator(estimator=LinearRegression())\n",
    "    ),\n",
    "    LinearRegression()\n",
    ")"
   ]
  },
  {
   "cell_type": "code",
   "execution_count": 13,
   "metadata": {},
   "outputs": [],
   "source": [
    "exported_pipeline.fit(X_train, y_train)\n",
    "results = exported_pipeline.predict(X_test)"
   ]
  },
  {
   "cell_type": "markdown",
   "metadata": {},
   "source": [
    "### Mape : The mean absolute percentage error (MAPE) is a statistical measure of how accurate a forecast system is. It measures this accuracy as a percentage"
   ]
  },
  {
   "cell_type": "code",
   "execution_count": 14,
   "metadata": {},
   "outputs": [
    {
     "data": {
      "text/plain": [
       "11.72825015878589"
      ]
     },
     "execution_count": 14,
     "metadata": {},
     "output_type": "execute_result"
    }
   ],
   "source": [
    "mape = 0\n",
    "\n",
    "for i,j in zip(y_test, results):\n",
    "    mape += np.abs((i-j)/i)\n",
    "    \n",
    "mape = (mape*100)/y_test.shape[0]\n",
    "\n",
    "mape"
   ]
  },
  {
   "cell_type": "code",
   "execution_count": null,
   "metadata": {},
   "outputs": [],
   "source": []
  }
 ],
 "metadata": {
  "kernelspec": {
   "display_name": "Python 3",
   "language": "python",
   "name": "python3"
  },
  "language_info": {
   "codemirror_mode": {
    "name": "ipython",
    "version": 3
   },
   "file_extension": ".py",
   "mimetype": "text/x-python",
   "name": "python",
   "nbconvert_exporter": "python",
   "pygments_lexer": "ipython3",
   "version": "3.7.4"
  }
 },
 "nbformat": 4,
 "nbformat_minor": 2
}
